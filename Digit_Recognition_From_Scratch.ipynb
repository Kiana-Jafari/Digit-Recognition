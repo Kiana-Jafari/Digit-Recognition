{
 "cells": [
  {
   "cell_type": "markdown",
   "metadata": {
    "id": "bITMbwWUwbpw"
   },
   "source": [
    "## **Building a Deep Neural Network for Image Classification with MNIST Dataset**"
   ]
  },
  {
   "cell_type": "markdown",
   "metadata": {
    "id": "Z01rWfS8xs02"
   },
   "source": [
    "#### Welcome to Exploring Neural Networks for Digit Recognition\n",
    "\n",
    "In this notebook, we will build a deep neural network from scratch using Python and NumPy to perform image classification tasks on the MNIST dataset. "
   ]
  },
  {
   "cell_type": "markdown",
   "metadata": {},
   "source": [
    "The two purposes of this notebook are:\n",
    "\n",
    "1. Detailed Analysis: Provide an in-depth analysis of designing and implementing a neural network, including training processes and optimization techniques.\n",
    "\n",
    "2. Optimization Techniques: Explore the theory behind Mini-Batch Gradient Descent and the advanced Adam Optimizer for model optimization."
   ]
  },
  {
   "cell_type": "markdown",
   "metadata": {
    "id": "eJAX4hNax18o"
   },
   "source": [
    "### **Introduction**"
   ]
  },
  {
   "cell_type": "markdown",
   "metadata": {
    "id": "VjbqaKBxx8Wb"
   },
   "source": [
    "The MNIST dataset is a popular benchmark in the field of machine learning, consisting of handwritten digit images. Our objective is to develop a DNN capable of accurately recognizing and classifying these digit images."
   ]
  },
  {
   "cell_type": "markdown",
   "metadata": {},
   "source": [
    "Also, this notebook will cover various useful methodologies, such as:\n",
    "- Evaluating a DNN with 2 hidden layers and an output layer including 9 neurons (since the digits range from 0-9).\n",
    "- Learning Rate Decay.\n",
    "- Implementing advanced optimization techniques, such as Adam optimizer + Mini-Batch Gradient Descent.\n",
    "- Using regularization techniques, such as L2-norm to improve model performance and prevent overfitting."
   ]
  },
  {
   "cell_type": "markdown",
   "metadata": {
    "id": "ZgAdmrjJx_4l"
   },
   "source": [
    "### Task 1a. Imports and loading"
   ]
  },
  {
   "cell_type": "markdown",
   "metadata": {
    "id": "_rmB2gwjyENP"
   },
   "source": [
    "We begin by loading the MNIST dataset from a CSV file using the Pandas library. The dataset contains pixel values of grayscale images along with corresponding labels. After loading the data, we perform the following preprocessing steps:\n",
    "\n",
    "- Rename the label column to 'label' for clarity.\n",
    "\n",
    "- Convert the dataset into a NumPy array and transpose it for easier manipulation.\n",
    "\n",
    "- Separate the labels **(`target`)** from the features **(`features`)**.\n",
    "\n",
    "- Normalize the pixel values of the images by scaling them to a range between 0 and 1."
   ]
  },
  {
   "cell_type": "markdown",
   "metadata": {
    "id": "bL41GgOd11nu"
   },
   "source": [
    "First, let's begin by importing essential libraries and loading the data."
   ]
  },
  {
   "cell_type": "code",
   "execution_count": 1,
   "metadata": {
    "id": "1gVj7OI5Lhit"
   },
   "outputs": [],
   "source": [
    "# Import packages for data manipulation\n",
    "import pandas as pd\n",
    "import numpy as np\n",
    "\n",
    "# Import packages for data visualization\n",
    "import matplotlib.pyplot as plt\n",
    "import seaborn as sns"
   ]
  },
  {
   "cell_type": "code",
   "execution_count": 2,
   "metadata": {
    "colab": {
     "base_uri": "https://localhost:8080/",
     "height": 255
    },
    "id": "64psZiEoLliR",
    "outputId": "094a2208-b584-46a2-ae6d-2565703df587"
   },
   "outputs": [
    {
     "data": {
      "text/html": [
       "<div>\n",
       "<style scoped>\n",
       "    .dataframe tbody tr th:only-of-type {\n",
       "        vertical-align: middle;\n",
       "    }\n",
       "\n",
       "    .dataframe tbody tr th {\n",
       "        vertical-align: top;\n",
       "    }\n",
       "\n",
       "    .dataframe thead th {\n",
       "        text-align: right;\n",
       "    }\n",
       "</style>\n",
       "<table border=\"1\" class=\"dataframe\">\n",
       "  <thead>\n",
       "    <tr style=\"text-align: right;\">\n",
       "      <th></th>\n",
       "      <th>label</th>\n",
       "      <th>0</th>\n",
       "      <th>0.1</th>\n",
       "      <th>0.2</th>\n",
       "      <th>0.3</th>\n",
       "      <th>0.4</th>\n",
       "      <th>0.5</th>\n",
       "      <th>0.6</th>\n",
       "      <th>0.7</th>\n",
       "      <th>0.8</th>\n",
       "      <th>...</th>\n",
       "      <th>0.581</th>\n",
       "      <th>0.582</th>\n",
       "      <th>0.583</th>\n",
       "      <th>0.584</th>\n",
       "      <th>0.585</th>\n",
       "      <th>0.586</th>\n",
       "      <th>0.587</th>\n",
       "      <th>0.588</th>\n",
       "      <th>0.589</th>\n",
       "      <th>0.590</th>\n",
       "    </tr>\n",
       "  </thead>\n",
       "  <tbody>\n",
       "    <tr>\n",
       "      <th>0</th>\n",
       "      <td>5</td>\n",
       "      <td>0</td>\n",
       "      <td>0</td>\n",
       "      <td>0</td>\n",
       "      <td>0</td>\n",
       "      <td>0</td>\n",
       "      <td>0</td>\n",
       "      <td>0</td>\n",
       "      <td>0</td>\n",
       "      <td>0</td>\n",
       "      <td>...</td>\n",
       "      <td>0</td>\n",
       "      <td>0</td>\n",
       "      <td>0</td>\n",
       "      <td>0</td>\n",
       "      <td>0</td>\n",
       "      <td>0</td>\n",
       "      <td>0</td>\n",
       "      <td>0</td>\n",
       "      <td>0</td>\n",
       "      <td>0</td>\n",
       "    </tr>\n",
       "    <tr>\n",
       "      <th>1</th>\n",
       "      <td>7</td>\n",
       "      <td>0</td>\n",
       "      <td>0</td>\n",
       "      <td>0</td>\n",
       "      <td>0</td>\n",
       "      <td>0</td>\n",
       "      <td>0</td>\n",
       "      <td>0</td>\n",
       "      <td>0</td>\n",
       "      <td>0</td>\n",
       "      <td>...</td>\n",
       "      <td>0</td>\n",
       "      <td>0</td>\n",
       "      <td>0</td>\n",
       "      <td>0</td>\n",
       "      <td>0</td>\n",
       "      <td>0</td>\n",
       "      <td>0</td>\n",
       "      <td>0</td>\n",
       "      <td>0</td>\n",
       "      <td>0</td>\n",
       "    </tr>\n",
       "    <tr>\n",
       "      <th>2</th>\n",
       "      <td>9</td>\n",
       "      <td>0</td>\n",
       "      <td>0</td>\n",
       "      <td>0</td>\n",
       "      <td>0</td>\n",
       "      <td>0</td>\n",
       "      <td>0</td>\n",
       "      <td>0</td>\n",
       "      <td>0</td>\n",
       "      <td>0</td>\n",
       "      <td>...</td>\n",
       "      <td>0</td>\n",
       "      <td>0</td>\n",
       "      <td>0</td>\n",
       "      <td>0</td>\n",
       "      <td>0</td>\n",
       "      <td>0</td>\n",
       "      <td>0</td>\n",
       "      <td>0</td>\n",
       "      <td>0</td>\n",
       "      <td>0</td>\n",
       "    </tr>\n",
       "    <tr>\n",
       "      <th>3</th>\n",
       "      <td>5</td>\n",
       "      <td>0</td>\n",
       "      <td>0</td>\n",
       "      <td>0</td>\n",
       "      <td>0</td>\n",
       "      <td>0</td>\n",
       "      <td>0</td>\n",
       "      <td>0</td>\n",
       "      <td>0</td>\n",
       "      <td>0</td>\n",
       "      <td>...</td>\n",
       "      <td>0</td>\n",
       "      <td>0</td>\n",
       "      <td>0</td>\n",
       "      <td>0</td>\n",
       "      <td>0</td>\n",
       "      <td>0</td>\n",
       "      <td>0</td>\n",
       "      <td>0</td>\n",
       "      <td>0</td>\n",
       "      <td>0</td>\n",
       "    </tr>\n",
       "    <tr>\n",
       "      <th>4</th>\n",
       "      <td>2</td>\n",
       "      <td>0</td>\n",
       "      <td>0</td>\n",
       "      <td>0</td>\n",
       "      <td>0</td>\n",
       "      <td>0</td>\n",
       "      <td>0</td>\n",
       "      <td>0</td>\n",
       "      <td>0</td>\n",
       "      <td>0</td>\n",
       "      <td>...</td>\n",
       "      <td>0</td>\n",
       "      <td>0</td>\n",
       "      <td>0</td>\n",
       "      <td>0</td>\n",
       "      <td>0</td>\n",
       "      <td>0</td>\n",
       "      <td>0</td>\n",
       "      <td>0</td>\n",
       "      <td>0</td>\n",
       "      <td>0</td>\n",
       "    </tr>\n",
       "  </tbody>\n",
       "</table>\n",
       "<p>5 rows × 785 columns</p>\n",
       "</div>"
      ],
      "text/plain": [
       "   label  0  0.1  0.2  0.3  0.4  0.5  0.6  0.7  0.8  ...  0.581  0.582  0.583  \\\n",
       "0      5  0    0    0    0    0    0    0    0    0  ...      0      0      0   \n",
       "1      7  0    0    0    0    0    0    0    0    0  ...      0      0      0   \n",
       "2      9  0    0    0    0    0    0    0    0    0  ...      0      0      0   \n",
       "3      5  0    0    0    0    0    0    0    0    0  ...      0      0      0   \n",
       "4      2  0    0    0    0    0    0    0    0    0  ...      0      0      0   \n",
       "\n",
       "   0.584  0.585  0.586  0.587  0.588  0.589  0.590  \n",
       "0      0      0      0      0      0      0      0  \n",
       "1      0      0      0      0      0      0      0  \n",
       "2      0      0      0      0      0      0      0  \n",
       "3      0      0      0      0      0      0      0  \n",
       "4      0      0      0      0      0      0      0  \n",
       "\n",
       "[5 rows x 785 columns]"
      ]
     },
     "execution_count": 2,
     "metadata": {},
     "output_type": "execute_result"
    }
   ],
   "source": [
    "# Load the MNIST dataset\n",
    "data = pd.read_csv('mnist_train_small.csv')\n",
    "data = data.rename(columns={'6':'label'}) # Rename the label column for clarity\n",
    "\n",
    "# Display a few couple of rows\n",
    "data.head()"
   ]
  },
  {
   "cell_type": "markdown",
   "metadata": {
    "id": "F5eduGFA4XqK"
   },
   "source": [
    "### Task 2a. Data Preprocessing\n",
    "\n",
    "This task will follow in general the following steps:\n",
    "1. Data Preprocessing\n",
    "2. Data Transpose \n",
    "3. Splitting the Data into features (input) and labels (output) for further analysis.\n",
    "4. and finally, Data Normalization"
   ]
  },
  {
   "cell_type": "code",
   "execution_count": 3,
   "metadata": {
    "id": "luC6sEsRNsdn"
   },
   "outputs": [],
   "source": [
    "# Convert data to NumPy array and transpose for easier manipulation\n",
    "data = np.array(data)\n",
    "data = data.T"
   ]
  },
  {
   "cell_type": "code",
   "execution_count": 4,
   "metadata": {
    "id": "BQAcfK_4N67U"
   },
   "outputs": [],
   "source": [
    "# Extract the target from the whole dataset\n",
    "label = data[0]\n",
    "\n",
    "# Produce a 2x2 One-Hot Encoded matrix\n",
    "number_classes = len(np.unique(data[0]))\n",
    "target = np.eye(number_classes)[label]\n",
    "\n",
    "# Transpose the target and display it\n",
    "target = target.T"
   ]
  },
  {
   "cell_type": "code",
   "execution_count": 5,
   "metadata": {
    "id": "sr4z3a8SOOPW"
   },
   "outputs": [],
   "source": [
    "# Normalize features by the Maximum Factor\n",
    "features = data[1:]\n",
    "features = np.divide(features, 255.0)"
   ]
  },
  {
   "cell_type": "code",
   "execution_count": 6,
   "metadata": {},
   "outputs": [
    {
     "name": "stdout",
     "output_type": "stream",
     "text": [
      "Shape of Features: (784, 19999)\n",
      "Shape of Target: (10, 19999)\n"
     ]
    }
   ],
   "source": [
    "# Print the shape of both sets\n",
    "print(f\"Shape of Features: {features.shape}\")\n",
    "print(f\"Shape of Target: {target.shape}\")"
   ]
  },
  {
   "cell_type": "markdown",
   "metadata": {
    "id": "y28ITv5pyfAv"
   },
   "source": [
    "### Task 3a. Split data into training, and validation sets"
   ]
  },
  {
   "cell_type": "markdown",
   "metadata": {
    "id": "O92SrKe3ylS1"
   },
   "source": [
    "To efficiently train our neural network, we implement a function to generate random mini-batches of data. This technique is essential when working with large datasets, as it enables us to perform mini-batch gradient descent much faster during the training process. By randomly selecting smaller subsets of the data, we are able to optimize the performance of the neural network and minimize training time."
   ]
  },
  {
   "cell_type": "code",
   "execution_count": 7,
   "metadata": {
    "colab": {
     "base_uri": "https://localhost:8080/"
    },
    "id": "lXK0bQW0OVwV",
    "outputId": "aa7c2e13-1bbd-405d-b793-644e96ead2b1"
   },
   "outputs": [
    {
     "name": "stdout",
     "output_type": "stream",
     "text": [
      "Shape of train batches: 500\n",
      "Shape of validation batches: 125\n"
     ]
    }
   ],
   "source": [
    "def random_mini_batches(X, Y, validation_split=0.2, mini_batch_size=32, seed=0):\n",
    "\n",
    "    np.random.seed(seed)  # Set seed for reproducibility\n",
    "    m = X.shape[1]  # Total number of examples\n",
    "    m_val = int(m * validation_split)  # Number of validation examples\n",
    "\n",
    "    # Shuffle indices\n",
    "    permutation = np.random.permutation(m)\n",
    "    shuffled_X = X[:, permutation]\n",
    "    shuffled_Y = Y[:, permutation]\n",
    "\n",
    "    # Split into training and validation sets\n",
    "    X_train = shuffled_X[:, m_val:]\n",
    "    Y_train = shuffled_Y[:, m_val:]\n",
    "    X_val = shuffled_X[:, :m_val]\n",
    "    Y_val = shuffled_Y[:, :m_val]\n",
    "\n",
    "    # Generate random mini-batches for training data\n",
    "    num_complete_minibatches_train = X_train.shape[1] // mini_batch_size\n",
    "    mini_batches_train = []\n",
    "\n",
    "    for k in range(num_complete_minibatches_train):\n",
    "        mini_batch_X_train = X_train[:, k * mini_batch_size : (k + 1) * mini_batch_size]\n",
    "        mini_batch_Y_train = Y_train[:, k * mini_batch_size : (k + 1) * mini_batch_size]\n",
    "        mini_batches_train.append((mini_batch_X_train, mini_batch_Y_train))\n",
    "\n",
    "    # Handling the end case (last mini-batch < mini_batch_size) for training\n",
    "    if X_train.shape[1] % mini_batch_size != 0:\n",
    "        mini_batch_X_train = X_train[:, num_complete_minibatches_train * mini_batch_size :]\n",
    "        mini_batch_Y_train = Y_train[:, num_complete_minibatches_train * mini_batch_size :]\n",
    "        mini_batches_train.append((mini_batch_X_train, mini_batch_Y_train))\n",
    "\n",
    "    # Generate random mini-batches for validation data\n",
    "    num_complete_minibatches_val = X_val.shape[1] // mini_batch_size\n",
    "    mini_batches_val = []\n",
    "\n",
    "    for k in range(num_complete_minibatches_val):\n",
    "        mini_batch_X_val = X_val[:, k * mini_batch_size : (k + 1) * mini_batch_size]\n",
    "        mini_batch_Y_val = Y_val[:, k * mini_batch_size : (k + 1) * mini_batch_size]\n",
    "        mini_batches_val.append((mini_batch_X_val, mini_batch_Y_val))\n",
    "\n",
    "    # Handling the end case (last mini-batch < mini_batch_size) for validation\n",
    "    if X_val.shape[1] % mini_batch_size != 0:\n",
    "        mini_batch_X_val = X_val[:, num_complete_minibatches_val * mini_batch_size :]\n",
    "        mini_batch_Y_val = Y_val[:, num_complete_minibatches_val * mini_batch_size :]\n",
    "        mini_batches_val.append((mini_batch_X_val, mini_batch_Y_val))\n",
    "\n",
    "    return mini_batches_train, mini_batches_val\n",
    "\n",
    "mini_batches_train, mini_batches_val = random_mini_batches(features, target, validation_split=0.2, mini_batch_size=32, seed=0)\n",
    "\n",
    "print(f\"Shape of train batches: {len(mini_batches_train)}\")\n",
    "print(f\"Shape of validation batches: {len(mini_batches_val)}\")"
   ]
  },
  {
   "cell_type": "markdown",
   "metadata": {
    "id": "ge9su5-Uy4zS"
   },
   "source": [
    "### Task 1b. Activation Functions"
   ]
  },
  {
   "cell_type": "markdown",
   "metadata": {
    "id": "looYmmRFyzwO"
   },
   "source": [
    "In neural networks, we use various activation functions in each hidden layer to introduce non-linearity, which allows the model to capture complex patterns. The activation functions used in this notebook will be:\n",
    "\n",
    "- **`Swish`**\n",
    "- **`Leaky ReLU`**\n",
    "- **`Softmax`**"
   ]
  },
  {
   "cell_type": "code",
   "execution_count": 8,
   "metadata": {
    "id": "E5Q-LNNEO4hp"
   },
   "outputs": [],
   "source": [
    "# Sigmoid activation function (essential for Swish activation function)\n",
    "def Sigmoid(z):\n",
    "    return 1 / (1 + (np.exp(-z)))\n",
    "\n",
    "\n",
    "# Swish activation function: Combines sigmoid with input 'z' multiplied by a scaling factor 'gamma'\n",
    "def Swish(z, gamma=1):\n",
    "    return z * Sigmoid(z * gamma)\n",
    "\n",
    "\n",
    "# Derivative of Swish activation function\n",
    "def Swish_derivative(z, gamma=1):\n",
    "    return Sigmoid(z * gamma) + z * (1 - Sigmoid(z * gamma))\n",
    "\n",
    "\n",
    "# Leaky ReLU activation function: Introduces a small negative slope ('alpha') for negative inputs\n",
    "def Leaky_ReLU(z, alpha=0.01):\n",
    "    return np.maximum(z, z * alpha)\n",
    "\n",
    "\n",
    "# Derivative of Leaky ReLU activation function\n",
    "def Leaky_ReLU_derivative(z, alpha=0.01):\n",
    "    return np.where(z > 0, 1, alpha)\n",
    "\n",
    "\n",
    "# Softmax activation function: Computes probabilities for multiple classes using 'z' values\n",
    "def Softmax(z):\n",
    "    exp_z = np.exp(z - np.max(z, axis=0, keepdims=True))  # Avoid Overflow\n",
    "    return exp_z / np.sum(exp_z, axis=0, keepdims=True)"
   ]
  },
  {
   "cell_type": "markdown",
   "metadata": {
    "id": "vEWkVwcFzGpt"
   },
   "source": [
    "### Task 2b. Parameter Initialization"
   ]
  },
  {
   "cell_type": "markdown",
   "metadata": {
    "id": "01f5HEMDzJl5"
   },
   "source": [
    "The neural network's parameters (weights and biases) are initialized before training begins. This process of initialization involves setting random starting values for the parameters, which are then adjusted during training in order to improve the network's performance."
   ]
  },
  {
   "cell_type": "markdown",
   "metadata": {
    "id": "XZteJIIq85sC"
   },
   "source": [
    "Weights are going to be set to a small random number, whereas biases are set as zeros.\n",
    "\n",
    "The reason behind multiplying weights by a small constant is to ensure that the weights of the function are not only randomized but also relatively small in order not to affect the training process.\n",
    "\n",
    "By setting biases as zeros, we are able to eliminate any potential bias that may be introduced into the model."
   ]
  },
  {
   "cell_type": "code",
   "execution_count": 9,
   "metadata": {
    "id": "4A_Jl84wQLgQ"
   },
   "outputs": [],
   "source": [
    "def initialize_parameters(input_size, first_hidden_size, second_hidden_size, output_size):\n",
    "\n",
    "    W1 = np.random.randn(first_hidden_size, input_size) * 0.01  # Multiply by a small factor\n",
    "    b1 = np.zeros((first_hidden_size, 1))\n",
    "\n",
    "    W2 = np.random.randn(second_hidden_size, first_hidden_size) * 0.01\n",
    "    b2 = np.zeros((second_hidden_size, 1))\n",
    "\n",
    "    W3 = np.random.randn(output_size, second_hidden_size) * 0.01\n",
    "    b3 = np.zeros((output_size, 1))\n",
    "\n",
    "    parameters = {'W1':W1,\n",
    "                  'b1':b1,\n",
    "                  'W2':W2,\n",
    "                  'b2':b2,\n",
    "                  'W3':W3,\n",
    "                  'b3':b3}\n",
    "\n",
    "    return parameters"
   ]
  },
  {
   "cell_type": "markdown",
   "metadata": {
    "id": "QadqN0sazRZ6"
   },
   "source": [
    "### Task 3b. Feed Forward Neural Network"
   ]
  },
  {
   "cell_type": "markdown",
   "metadata": {
    "id": "2pFC0nkhzUCN"
   },
   "source": [
    "During forward propagation, input data is passed through the network layers, and activations are computed using the initialized parameters and activation functions."
   ]
  },
  {
   "cell_type": "code",
   "execution_count": 10,
   "metadata": {
    "id": "geN2-UWLQ-XQ"
   },
   "outputs": [],
   "source": [
    "def forward_propagation(X, parameters):\n",
    "\n",
    "    # Get weights and biases from parameters dictionary\n",
    "    W1, b1 = parameters['W1'], parameters['b1']\n",
    "    W2, b2 = parameters['W2'], parameters['b2']\n",
    "    W3, b3 = parameters['W3'], parameters['b3']\n",
    "\n",
    "    # Perform linear transformations and activation functions\n",
    "    z1 = np.dot(W1, X) + b1\n",
    "    a1 = Swish(z1)\n",
    "    z2 = np.dot(W2, a1) + b2\n",
    "    a2 = Leaky_ReLU(z2)\n",
    "    z3 = np.dot(W3, a2) + b3\n",
    "    a3 = Softmax(z3)\n",
    "\n",
    "    forward_cache = {'z1':z1,\n",
    "                     'a1':a1,\n",
    "                     'z2':z2,\n",
    "                     'a2':a2,\n",
    "                     'z3':z3,\n",
    "                     'a3':a3}\n",
    "\n",
    "    return a3, forward_cache"
   ]
  },
  {
   "cell_type": "markdown",
   "metadata": {
    "id": "cGVKujav-X52"
   },
   "source": [
    "### Task 4b. Regularized Cost Function"
   ]
  },
  {
   "cell_type": "markdown",
   "metadata": {
    "id": "0E62v5TF-dV7"
   },
   "source": [
    "Cost function quantifies the disparity between predicted outputs and ground truth labels, and serves as a metric to evaluate the model's performance.\n",
    "For the purpose of `Backpropagation`, we need to first derive from this equation.\n",
    "\n",
    "Note that we are using a regularization term \"L2-norm\"; so we need to mention that out in our cost formula as well.\n",
    "\n",
    "$Cost = - \\frac{1}{m}\\sum_{i=1}^{m}\\sum_{k=1}^{n}[ y_k \\log(a_k) ] + \\frac{\\lambda}{2m} \\sum_{j=1}^{p} w_j^2$"
   ]
  },
  {
   "cell_type": "code",
   "execution_count": 11,
   "metadata": {
    "id": "msr-yUoARoKI"
   },
   "outputs": [],
   "source": [
    "def compute_cost(a3, y, parameters, penalty, epsilon=1e-8):\n",
    "\n",
    "    # Get the model parameters\n",
    "    W1 = parameters['W1']\n",
    "    W2 = parameters['W2']\n",
    "    W3 = parameters['W3']\n",
    "\n",
    "    # Number of examples in the dataset\n",
    "    n = y.shape[1]\n",
    "\n",
    "    # Compute log probabilities\n",
    "    logprobs = np.multiply(-np.log(a3 + epsilon), y)\n",
    "    cost = np.mean(logprobs)\n",
    "\n",
    "    # Compute regularization term\n",
    "    regularized_cost = np.divide(penalty, np.multiply(2, n)) * (np.sum(np.square(W1)) + np.sum(np.square(W2)) + np.sum(np.square(W3)))\n",
    "    total_cost = cost + regularized_cost\n",
    "\n",
    "    return total_cost"
   ]
  },
  {
   "cell_type": "markdown",
   "metadata": {
    "id": "HdTEULXYzZPp"
   },
   "source": [
    "### Task 1c. Backpropagation"
   ]
  },
  {
   "cell_type": "markdown",
   "metadata": {
    "id": "fGAHKlX7zcAc"
   },
   "source": [
    "During the training of a neural network, the backpropagation algorithm is used to calculate the gradients of the loss function with respect to each parameter in the network. These gradients are then used to update the parameters in the network, which ultimately leads to an improvement in the network's ability to make accurate predictions. The backpropagation algorithm works by computing the derivatives of the loss function with respect to each weight in the network, and then propagating these derivatives backwards through the network to update the weights. This process is repeated many times during training, gradually improving the network's performance until it reaches a satisfactory level."
   ]
  },
  {
   "cell_type": "code",
   "execution_count": 12,
   "metadata": {
    "id": "n0T6eDtyTJvg"
   },
   "outputs": [],
   "source": [
    "def backpropagation(X, y, parameters, forward_cache, penalty):\n",
    "\n",
    "    W1 = parameters['W1']\n",
    "    W2 = parameters['W2']\n",
    "    W3 = parameters['W3']\n",
    "\n",
    "    z1 = forward_cache['z1']\n",
    "    a1 = forward_cache['a1']\n",
    "    z2 = forward_cache['z2']\n",
    "    a2 = forward_cache['a2']\n",
    "    a3 = forward_cache['a3']\n",
    "\n",
    "    m = X.shape[1]  # Number of training examples\n",
    "\n",
    "    # gradients for output layer\n",
    "    dZ3 = a3 - y\n",
    "    dW3 = np.dot(dZ3, a2.T) / m + np.multiply(np.divide(penalty, m), W3)\n",
    "    db3 = np.sum(dZ3, axis=1, keepdims=True) / m\n",
    "\n",
    "    # gradients for second hidden layer\n",
    "    dZ2 = np.dot(W3.T, dZ3) * Leaky_ReLU_derivative(z2)\n",
    "    dW2 = np.dot(dZ2, a1.T) / m + np.multiply(np.divide(penalty, m), W2)\n",
    "    db2 = np.sum(dZ2, axis=1, keepdims=True) / m\n",
    "\n",
    "    # gradients for first hidden layer\n",
    "    dZ1 = np.dot(W2.T, dZ2) * Swish_derivative(z1)\n",
    "    dW1 = np.dot(dZ1, X.T) / m + np.multiply(np.divide(penalty, m), W1)\n",
    "    db1 = np.sum(dZ1, axis=1, keepdims=True) / m\n",
    "\n",
    "    gradients = {'dW1':dW1,\n",
    "               'db1':db1,\n",
    "               'dW2':dW2,\n",
    "               'db2':db2,\n",
    "               'dW3':dW3,\n",
    "               'db3':db3}\n",
    "\n",
    "    return gradients"
   ]
  },
  {
   "cell_type": "markdown",
   "metadata": {
    "id": "ThCTff-RzkXc"
   },
   "source": [
    "### Task 2c. Adam Optimization**"
   ]
  },
  {
   "cell_type": "markdown",
   "metadata": {
    "id": "3WAnE3cGznJn"
   },
   "source": [
    "Our network uses `Adam` as the optimizer, which is indeed much faster than the traditional SGD + Momentum.\n",
    "\n",
    "The Adam algorithm uses adaptive learning rates to update network parameters efficiently, which allows it to converge faster than other optimization algorithms."
   ]
  },
  {
   "cell_type": "code",
   "execution_count": 13,
   "metadata": {
    "id": "zxhriuuNXl-F"
   },
   "outputs": [],
   "source": [
    "def initialize_adam(parameters):\n",
    "\n",
    "    # Define two empty dictionaries for `Momentum`, and `RMSprop`, respectively\n",
    "    velocity = {}\n",
    "    cache = {}\n",
    "\n",
    "    # Initialize velocity and cache with zeros of the same shape as the parameter\n",
    "    for key, value in parameters.items():\n",
    "        velocity[key] = np.zeros_like(value)\n",
    "        cache[key] = np.zeros_like(value)\n",
    "\n",
    "    return velocity, cache"
   ]
  },
  {
   "cell_type": "markdown",
   "metadata": {
    "id": "hsw6Qr6UDqb0"
   },
   "source": [
    "### Task 3c. Updating parameters with Adam"
   ]
  },
  {
   "cell_type": "markdown",
   "metadata": {
    "id": "mVNQx19dEzjT"
   },
   "source": [
    "Adam is considered one of the most effective and capable optimization algorithms for training neural networks. It combines ideas from RMSProp and Momentum to improve performance.\n",
    "\n",
    "The algorithm applies individual learning rates to each parameter and adapts the updates based on the accumulated past gradients and squared gradients.\n",
    "\n",
    "In addition, bias-correction term is considered into the algorithm to prevent the optimization process from becoming trapped in local minima.\n",
    "\n",
    "alongside Adam Optimizer and Mini-Batch Gradient Descent, we will use another commonly used technique called `Learning Rate Decay`. This is the process of gradually reducing the learning rate at each step. It prevents the model, not to overshoot the optima."
   ]
  },
  {
   "cell_type": "code",
   "execution_count": 14,
   "metadata": {
    "id": "OeC_2yKwX4om"
   },
   "outputs": [],
   "source": [
    "def update_parameters(parameters, gradients, velocity, cache, learning_rate, decay_rate, current_iteration, momentum_coefficient=0.9, rmsprop_coefficient=0.999, epsilon=1e-8):\n",
    "\n",
    "    # beta1 and beta2 based on specified coefficients\n",
    "    beta1 = momentum_coefficient\n",
    "    beta2 = rmsprop_coefficient\n",
    "\n",
    "    corrected_velocity = {}\n",
    "    corrected_cache = {}\n",
    "\n",
    "    # Compute decayed learning rate\n",
    "    learning_rate_decay = learning_rate / (1 + decay_rate * current_iteration)\n",
    "\n",
    "    # Update velocity with momentum term and cache with RMSprop term\n",
    "    for parameter in parameters:\n",
    "\n",
    "        velocity[parameter] = beta1 * velocity[parameter] + (1 - beta1) * gradients['d' + parameter]\n",
    "        corrected_velocity[parameter] = velocity[parameter] / (1 - beta1)\n",
    "\n",
    "        cache[parameter] = beta2 * cache[parameter] + (1 - beta2) * (gradients['d' + parameter] ** 2)\n",
    "        corrected_cache[parameter] = cache[parameter] / (1 - beta2)\n",
    "\n",
    "        parameters[parameter] -= learning_rate_decay * corrected_velocity[parameter] / (np.sqrt(corrected_cache[parameter]) + epsilon)\n",
    "\n",
    "    return parameters, velocity, cache"
   ]
  },
  {
   "cell_type": "markdown",
   "metadata": {
    "id": "wsMwUTwLGXeF"
   },
   "source": [
    "### Task 1d. Predictions and Evaluation Metrics"
   ]
  },
  {
   "cell_type": "markdown",
   "metadata": {
    "id": "SL9R4W53GdVC"
   },
   "source": [
    "We would consider `Accuracy` as the Evaluation Metrics.\n",
    "\n",
    "To calculate accuracy, first, make predictions on the validation-test data, and then, use the corresponding ground truth to calculate the proportion of true predicted images by the model."
   ]
  },
  {
   "cell_type": "code",
   "execution_count": 15,
   "metadata": {
    "id": "DiYyEQkvZQXY"
   },
   "outputs": [],
   "source": [
    "def predict(x, parameters):\n",
    "    a3, _ = forward_propagation(x, parameters)\n",
    "    return np.argmax(a3, axis=0)  # Get the prediction with the highest probability"
   ]
  },
  {
   "cell_type": "code",
   "execution_count": 16,
   "metadata": {
    "id": "hpF9IHzMZVGP"
   },
   "outputs": [],
   "source": [
    "def accuracy_score(prediction, label):\n",
    "\n",
    "    # Calculate the proportion of corrected labels\n",
    "    return np.mean(prediction == np.argmax(label, axis=0))"
   ]
  },
  {
   "cell_type": "markdown",
   "metadata": {
    "id": "n5-zQ6E5Hyiv"
   },
   "source": [
    "### Task 2d. Plotting the Training / Validation Cost Function**"
   ]
  },
  {
   "cell_type": "markdown",
   "metadata": {
    "id": "MRN48YinIBfs"
   },
   "source": [
    "Within the following function, we will generate a visual representation of the performance of the Cost Function. This will include both the Training and Validation phases."
   ]
  },
  {
   "cell_type": "code",
   "execution_count": 17,
   "metadata": {
    "id": "ihsr4OUIZXE1"
   },
   "outputs": [],
   "source": [
    "def plot_cost_graph(train_cost_history, val_cost_history):\n",
    "\n",
    "    # Plot the cost in each iteration (loss)\n",
    "    sns.set_theme(style='darkgrid')\n",
    "    train_iterations = len(train_cost_history)\n",
    "    val_iterations = len(val_cost_history)\n",
    "    plt.figure(figsize=(15, 6))\n",
    "    plt.plot(range(train_iterations), train_cost_history, label='Training Cost', color='blue')\n",
    "    plt.plot(range(val_iterations), val_cost_history, label='Validation Cost', color='red')\n",
    "    plt.title('Cost vs. Iterations')\n",
    "    plt.xlabel('Iterations')\n",
    "    plt.ylabel('Cost')\n",
    "    plt.grid(True)\n",
    "    plt.legend()\n",
    "    plt.show();"
   ]
  },
  {
   "cell_type": "markdown",
   "metadata": {
    "id": "PgwqiNMyzsq_"
   },
   "source": [
    "### Task 1e. Evaluating the Network"
   ]
  },
  {
   "cell_type": "markdown",
   "metadata": {
    "id": "NdjTZjfLzv_s"
   },
   "source": [
    "The DNN is trained using mini-batch gradient descent with Adam optimization. Training involves iterating over the dataset for a specified number of epochs, computing forward and backward passes, and updating network parameters."
   ]
  },
  {
   "cell_type": "code",
   "execution_count": 18,
   "metadata": {
    "id": "QE3QDgjzZcJ3"
   },
   "outputs": [],
   "source": [
    "def mini_batch_gradient_descent(X_train, Y_train, input_size, first_hidden_size, second_hidden_size, output_size, penalty, learning_rate, iterations, mini_batch_size=32, decay_rate=0.1):\n",
    "    \n",
    "    parameters = initialize_parameters(input_size, first_hidden_size, second_hidden_size, output_size)\n",
    "    velocity, cache = initialize_adam(parameters)\n",
    "\n",
    "    # Store the cost of both sets\n",
    "    train_cost_history = []\n",
    "    val_cost_history = []\n",
    "\n",
    "    for epoch in range(iterations):\n",
    "        epoch_cost = 0  # Initialize the cost for both Training / validation sets\n",
    "        val_epoch_cost = 0\n",
    "        seed = epoch  # Set seed for reproducibility of mini-batches\n",
    "\n",
    "        mini_batches_train, _ = random_mini_batches(X_train, Y_train, mini_batch_size=mini_batch_size, seed=seed)\n",
    "\n",
    "        for mini_batch_X, mini_batch_Y in mini_batches_train:\n",
    "            \n",
    "            # Compute Forwardpropagation\n",
    "            a3, forward_cache = forward_propagation(mini_batch_X, parameters)\n",
    "\n",
    "            # Compute Training Cost\n",
    "            cost = compute_cost(a3, mini_batch_Y, parameters, penalty)\n",
    "            epoch_cost += cost\n",
    "\n",
    "            # Backpropagation\n",
    "            gradients = backpropagation(mini_batch_X, mini_batch_Y, parameters, forward_cache, penalty)\n",
    "\n",
    "            # Updating\n",
    "            parameters, velocity, cache = update_parameters(parameters, gradients, velocity, cache, learning_rate, decay_rate, epoch)\n",
    "\n",
    "        epoch_cost /= len(mini_batches_train)\n",
    "        train_cost_history.append(epoch_cost)\n",
    "\n",
    "        # Validation\n",
    "        for mini_batch_X_val, mini_batch_Y_val in mini_batches_val:\n",
    "            a3_val, forward_cache = forward_propagation(mini_batch_X_val, parameters)\n",
    "\n",
    "            val_cost = compute_cost(a3_val, mini_batch_Y_val, parameters, penalty)\n",
    "            val_epoch_cost += val_cost\n",
    "\n",
    "        val_epoch_cost /= len(mini_batches_val)\n",
    "        val_cost_history.append(val_epoch_cost)\n",
    "\n",
    "        if epoch % 10 == 0:\n",
    "            print(f\"Epoch {epoch}: Train Cost = {epoch_cost:.4}, Validation Cost = {val_epoch_cost:.4}\")\n",
    "\n",
    "    return parameters, train_cost_history, val_cost_history\n",
    "\n",
    "input_size = features.shape[0]\n",
    "first_hidden_size = 64\n",
    "second_hidden_size = 32\n",
    "output_size = number_classes  # Number of classes\n",
    "\n",
    "penalty = 0.001\n",
    "learning_rate = 0.0001\n",
    "num_epochs = 200\n",
    "mini_batch_size = 32\n",
    "decay_rate = 0.001"
   ]
  },
  {
   "cell_type": "code",
   "execution_count": 19,
   "metadata": {
    "colab": {
     "base_uri": "https://localhost:8080/",
     "height": 657
    },
    "id": "8vmm5oKEa5iQ",
    "outputId": "63db6ec1-0b32-4a7f-b870-1eaf625845e2"
   },
   "outputs": [
    {
     "name": "stdout",
     "output_type": "stream",
     "text": [
      "Epoch 0: Train Cost = 0.1986, Validation Cost = 0.1554\n",
      "Epoch 10: Train Cost = 0.06618, Validation Cost = 0.06583\n",
      "Epoch 20: Train Cost = 0.05563, Validation Cost = 0.05585\n",
      "Epoch 30: Train Cost = 0.04864, Validation Cost = 0.04932\n",
      "Epoch 40: Train Cost = 0.04326, Validation Cost = 0.04427\n",
      "Epoch 50: Train Cost = 0.03896, Validation Cost = 0.04021\n",
      "Epoch 60: Train Cost = 0.03663, Validation Cost = 0.03715\n",
      "Epoch 70: Train Cost = 0.03345, Validation Cost = 0.03479\n",
      "Epoch 80: Train Cost = 0.03258, Validation Cost = 0.03306\n",
      "Epoch 90: Train Cost = 0.03058, Validation Cost = 0.03174\n",
      "Epoch 100: Train Cost = 0.02979, Validation Cost = 0.03068\n",
      "Epoch 110: Train Cost = 0.02848, Validation Cost = 0.02979\n",
      "Epoch 120: Train Cost = 0.02785, Validation Cost = 0.02902\n",
      "Epoch 130: Train Cost = 0.02697, Validation Cost = 0.0282\n",
      "Epoch 140: Train Cost = 0.02624, Validation Cost = 0.02772\n",
      "Epoch 150: Train Cost = 0.02569, Validation Cost = 0.02706\n",
      "Epoch 160: Train Cost = 0.02559, Validation Cost = 0.02656\n",
      "Epoch 170: Train Cost = 0.02538, Validation Cost = 0.02617\n",
      "Epoch 180: Train Cost = 0.02494, Validation Cost = 0.0258\n",
      "Epoch 190: Train Cost = 0.0246, Validation Cost = 0.02553\n"
     ]
    },
    {
     "data": {
      "image/png": "[encoded data removed]",
      "text/plain": [
       "<Figure size 1500x600 with 1 Axes>"
      ]
     },
     "metadata": {},
     "output_type": "display_data"
    },
    {
     "name": "stdout",
     "output_type": "stream",
     "text": [
      "Training accuracy: 0.9538\n",
      "Validation accuracy: 0.9525\n"
     ]
    }
   ],
   "source": [
    "# Perform gradient descent\n",
    "trained_parameters, train_cost_history, val_cost_history = mini_batch_gradient_descent(features, target, input_size, first_hidden_size, second_hidden_size, output_size, penalty, learning_rate, num_epochs, mini_batch_size, decay_rate)\n",
    "\n",
    "# Plot cost history\n",
    "plot_cost_graph(train_cost_history, val_cost_history)\n",
    "\n",
    "# Make predictions and evaluate accuracy\n",
    "predictions_train = predict(features, trained_parameters)\n",
    "accuracy_train = accuracy_score(predictions_train, target)\n",
    "print(f\"Training accuracy: {accuracy_train:.4}\")\n",
    "\n",
    "# Extract x and y components from each mini-batch in validation set\n",
    "X_val_list = []\n",
    "y_val_list = []\n",
    "for mini_batch_X, mini_batch_Y in mini_batches_val:\n",
    "    X_val_list.append(mini_batch_X)\n",
    "    y_val_list.append(mini_batch_Y)\n",
    "\n",
    "# Concatenate the extracted lists into single arrays\n",
    "X_val = np.concatenate(X_val_list, axis=1)\n",
    "y_val = np.concatenate(y_val_list, axis=1)\n",
    "\n",
    "# Make predictions on the combined validation set\n",
    "predictions_val = predict(X_val, trained_parameters)\n",
    "\n",
    "# Calculate accuracy on the validation set\n",
    "accuracy_val = accuracy_score(predictions_val, y_val)\n",
    "print(f\"Validation accuracy: {accuracy_val:.4}\")"
   ]
  },
  {
   "cell_type": "markdown",
   "metadata": {
    "id": "twVlWjdO0NSq"
   },
   "source": [
    "#### **Evaluation and Visualization**"
   ]
  },
  {
   "cell_type": "markdown",
   "metadata": {
    "id": "qFz5bPpK0RKl"
   },
   "source": [
    "After training, we evaluate the model's performance on both training and validation datasets by computing accuracy scores and visualizing training/validation costs over epochs."
   ]
  },
  {
   "cell_type": "code",
   "execution_count": 20,
   "metadata": {
    "id": "03EagofEa_vD"
   },
   "outputs": [],
   "source": [
    "def get_predictions(A3):\n",
    "    return np.argmax(A3, 0)\n",
    "\n",
    "def make_predictions(X, parameters):\n",
    "    A3, _ = forward_propagation(X, parameters)\n",
    "    predictions = get_predictions(A3)\n",
    "    return predictions\n",
    "\n",
    "def validation_prediction(index, parameters):\n",
    "    sns.set_theme(style='dark')\n",
    "    current_image = X_val[:, index, None]\n",
    "    prediction = make_predictions(X_val[:, index, None], parameters)\n",
    "    label_index = np.argmax(y_val[:, index])  # Find index of the maximum value in the one-hot encoded label\n",
    "    label = label_index  # Assign the numerical label\n",
    "\n",
    "    print(\"Prediction: \", prediction)\n",
    "    print(\"Label: \", label)\n",
    "\n",
    "    current_image = current_image.reshape((28, 28)) * 255\n",
    "    plt.gray()\n",
    "    plt.imshow(current_image, interpolation='nearest')\n",
    "    plt.show();"
   ]
  },
  {
   "cell_type": "code",
   "execution_count": 21,
   "metadata": {
    "colab": {
     "base_uri": "https://localhost:8080/",
     "height": 1000
    },
    "id": "vdCSYR7Qd-Za",
    "outputId": "82a74023-44ab-469d-b435-930e3c6a0eb1"
   },
   "outputs": [
    {
     "name": "stdout",
     "output_type": "stream",
     "text": [
      "Prediction:  [1]\n",
      "Label:  1\n"
     ]
    },
    {
     "data": {
      "image/png": "[encoded data removed]",
      "text/plain": [
       "<Figure size 640x480 with 1 Axes>"
      ]
     },
     "metadata": {},
     "output_type": "display_data"
    },
    {
     "name": "stdout",
     "output_type": "stream",
     "text": [
      "Prediction:  [9]\n",
      "Label:  9\n"
     ]
    },
    {
     "data": {
      "image/png": "[encoded data removed]",
      "text/plain": [
       "<Figure size 640x480 with 1 Axes>"
      ]
     },
     "metadata": {},
     "output_type": "display_data"
    },
    {
     "name": "stdout",
     "output_type": "stream",
     "text": [
      "Prediction:  [8]\n",
      "Label:  8\n"
     ]
    },
    {
     "data": {
      "image/png": "[encoded data removed]",
      "text/plain": [
       "<Figure size 640x480 with 1 Axes>"
      ]
     },
     "metadata": {},
     "output_type": "display_data"
    },
    {
     "name": "stdout",
     "output_type": "stream",
     "text": [
      "Prediction:  [4]\n",
      "Label:  4\n"
     ]
    },
    {
     "data": {
      "image/png": "[encoded data removed]",
      "text/plain": [
       "<Figure size 640x480 with 1 Axes>"
      ]
     },
     "metadata": {},
     "output_type": "display_data"
    }
   ],
   "source": [
    "# Call the function\n",
    "validation_prediction(120, trained_parameters)\n",
    "validation_prediction(481, trained_parameters)\n",
    "validation_prediction(62, trained_parameters)\n",
    "validation_prediction(83, trained_parameters)"
   ]
  },
  {
   "cell_type": "markdown",
   "metadata": {
    "id": "xVeOfrTCKc3l"
   },
   "source": [
    "#### **Visualizing Wrong Predictions on Validation data**"
   ]
  },
  {
   "cell_type": "markdown",
   "metadata": {
    "id": "-l2RJhfUKy2o"
   },
   "source": [
    "Let us create a visual representation of the incorrect forecasts. It is essential to note that this visualization will aid in the identification of areas that require improvement and help us to adjust our forecasting models accordingly."
   ]
  },
  {
   "cell_type": "code",
   "execution_count": 22,
   "metadata": {
    "colab": {
     "base_uri": "https://localhost:8080/"
    },
    "id": "ww3OA_2pepL3",
    "outputId": "5a00042c-4217-47cd-a92d-d5a3b9a46ddb"
   },
   "outputs": [
    {
     "name": "stdout",
     "output_type": "stream",
     "text": [
      "The Number of Wrong Predictions: 10\n"
     ]
    }
   ],
   "source": [
    "# How many Wrong predictions are estimated by our model?\n",
    "print(f\"The Number of Wrong Predictions: {len(predictions_val != y_val)}\")"
   ]
  },
  {
   "cell_type": "code",
   "execution_count": 23,
   "metadata": {
    "colab": {
     "base_uri": "https://localhost:8080/",
     "height": 320
    },
    "id": "vWFdd8rzdhUz",
    "outputId": "4ac8993b-a73a-4ab3-9d34-46e54b740a04"
   },
   "outputs": [
    {
     "data": {
      "image/png": "[encoded data removed]",
      "text/plain": [
       "<Figure size 1500x800 with 10 Axes>"
      ]
     },
     "metadata": {},
     "output_type": "display_data"
    }
   ],
   "source": [
    "# Identify indices of incorrect predictions\n",
    "incorrect_indices = np.where(predictions_val != np.argmax(y_val, axis=0))[0]\n",
    "\n",
    "# Select first 10 incorrect indices (assuming there are at least 10 incorrect predictions)\n",
    "incorrect_indices = incorrect_indices[:10]\n",
    "\n",
    "# Plot the incorrect images alongside their correct labels\n",
    "plt.figure(figsize=(15, 8))\n",
    "\n",
    "for i, idx in enumerate(incorrect_indices):\n",
    "    \n",
    "    # Get the incorrectly predicted image and its true label\n",
    "    incorrect_image = X_val[:, idx].reshape((28, 28)) * 255\n",
    "    true_label = np.argmax(y_val[:, idx])\n",
    "\n",
    "    # Make prediction for the image\n",
    "    predicted_label = predictions_val[idx]\n",
    "\n",
    "    # Plot the incorrect image with its predicted and true labels\n",
    "    plt.subplot(2, 5, i + 1)\n",
    "    plt.imshow(incorrect_image, cmap='gray')\n",
    "    plt.title(f\"True: {true_label}, Predicted: {predicted_label}\")\n",
    "    plt.axis('off')\n",
    "\n",
    "plt.tight_layout()\n",
    "plt.show();"
   ]
  },
  {
   "cell_type": "markdown",
   "metadata": {
    "id": "sRUpb_yFLaVm"
   },
   "source": [
    "#### **Loading and Preprocessing Test set**"
   ]
  },
  {
   "cell_type": "markdown",
   "metadata": {
    "id": "CMC2vqrcNn-Q"
   },
   "source": [
    "Given the satisfactory performance of the model on the validation data, it can be deemed reliable for making predictions on the entire set of test data."
   ]
  },
  {
   "cell_type": "markdown",
   "metadata": {
    "id": "LFEXtCz3OHkJ"
   },
   "source": [
    "In a similar manner as we handled our training-validation set, our next step is to load and pre-process our test set."
   ]
  },
  {
   "cell_type": "code",
   "execution_count": 24,
   "metadata": {
    "id": "uZRTsEUeedL8"
   },
   "outputs": [],
   "source": [
    "# Load the Test data\n",
    "test_data = pd.read_csv('mnist_test.csv')"
   ]
  },
  {
   "cell_type": "code",
   "execution_count": 25,
   "metadata": {
    "id": "U-qalJdWgVEm"
   },
   "outputs": [],
   "source": [
    "# Preprocess the Test data similar to Train data\n",
    "test_data = np.array(test_data)\n",
    "test_data = test_data.T"
   ]
  },
  {
   "cell_type": "code",
   "execution_count": 26,
   "metadata": {
    "id": "wHXoCJ4BgXR_"
   },
   "outputs": [],
   "source": [
    "# Extract the target and One-Hot Encode that\n",
    "y_test = test_data[0]\n",
    "\n",
    "number_classes = len(np.unique(test_data[0]))\n",
    "y_test = np.eye(number_classes)[y_test]\n",
    "y_test = y_test.T"
   ]
  },
  {
   "cell_type": "code",
   "execution_count": 27,
   "metadata": {
    "id": "XEjhI-82gY2o"
   },
   "outputs": [],
   "source": [
    "# Extract and Scale the Pixels for the Test set\n",
    "x_test = test_data[1:]\n",
    "x_test = np.divide(x_test, 255.0)"
   ]
  },
  {
   "cell_type": "markdown",
   "metadata": {
    "id": "hulIfBNWMbpz"
   },
   "source": [
    "#### **Making / Visualizing Predictions on Test data**"
   ]
  },
  {
   "cell_type": "markdown",
   "metadata": {
    "id": "259C4NpQPAO4"
   },
   "source": [
    "When it comes to evaluating the performance of machine learning models, making predictions on test data is a crucial step. Test data refers to a subset of data that is held out from the model during training, and is used to assess the model's ability to generalize to new, unseen data. By making predictions on the test data, we can measure the accuracy and effectiveness of the model and ensure that it performs well on data it has not seen before."
   ]
  },
  {
   "cell_type": "code",
   "execution_count": 28,
   "metadata": {
    "id": "vxEWVeblgaa_"
   },
   "outputs": [],
   "source": [
    "def get_predictions(A3):\n",
    "    return np.argmax(A3, 0)\n",
    "\n",
    "def make_predictions(X, parameters):\n",
    "    A3, _ = forward_propagation(X, parameters)\n",
    "    predictions = get_predictions(A3)\n",
    "    return predictions\n",
    "\n",
    "def test_prediction(index, parameters):\n",
    "    sns.set_theme(style='dark')\n",
    "    current_image = x_test[:, index, None]\n",
    "    prediction = make_predictions(x_test[:, index, None], parameters)\n",
    "    label_index = np.argmax(y_test[:, index])  # Find index of the maximum value in the one-hot encoded label\n",
    "    label = label_index  # Assign the numerical label\n",
    "\n",
    "    print(\"Prediction: \", prediction)\n",
    "    print(\"Label: \", label)\n",
    "\n",
    "    current_image = current_image.reshape((28, 28)) * 255\n",
    "    plt.gray()\n",
    "    plt.imshow(current_image, interpolation='nearest')\n",
    "    plt.show();"
   ]
  },
  {
   "cell_type": "code",
   "execution_count": 29,
   "metadata": {
    "colab": {
     "base_uri": "https://localhost:8080/",
     "height": 1000
    },
    "id": "SM0R2z2mgcbV",
    "outputId": "995575ce-a647-4bb9-89ad-0a2a1baf348a"
   },
   "outputs": [
    {
     "name": "stdout",
     "output_type": "stream",
     "text": [
      "Prediction:  [5]\n",
      "Label:  5\n"
     ]
    },
    {
     "data": {
      "image/png": "[encoded data removed]",
      "text/plain": [
       "<Figure size 640x480 with 1 Axes>"
      ]
     },
     "metadata": {},
     "output_type": "display_data"
    },
    {
     "name": "stdout",
     "output_type": "stream",
     "text": [
      "Prediction:  [7]\n",
      "Label:  7\n"
     ]
    },
    {
     "data": {
      "image/png": "[encoded data removed]",
      "text/plain": [
       "<Figure size 640x480 with 1 Axes>"
      ]
     },
     "metadata": {},
     "output_type": "display_data"
    },
    {
     "name": "stdout",
     "output_type": "stream",
     "text": [
      "Prediction:  [4]\n",
      "Label:  4\n"
     ]
    },
    {
     "data": {
      "image/png": "[encoded data removed]",
      "text/plain": [
       "<Figure size 640x480 with 1 Axes>"
      ]
     },
     "metadata": {},
     "output_type": "display_data"
    },
    {
     "name": "stdout",
     "output_type": "stream",
     "text": [
      "Prediction:  [8]\n",
      "Label:  8\n"
     ]
    },
    {
     "data": {
      "image/png": "[encoded data removed]",
      "text/plain": [
       "<Figure size 640x480 with 1 Axes>"
      ]
     },
     "metadata": {},
     "output_type": "display_data"
    }
   ],
   "source": [
    "# Call the function\n",
    "test_prediction(355, trained_parameters)\n",
    "test_prediction(254, trained_parameters)\n",
    "test_prediction(718, trained_parameters)\n",
    "test_prediction(600, trained_parameters)"
   ]
  },
  {
   "cell_type": "markdown",
   "metadata": {
    "id": "lQzTl9zwNVD0"
   },
   "source": [
    "#### **Visualizing Wrong Predictions on Test data**"
   ]
  },
  {
   "cell_type": "markdown",
   "metadata": {
    "id": "wxT3kSWoPalv"
   },
   "source": [
    "One way to gain insights into the performance of a machine learning model is to visualize its wrong predictions on test data. This involves creating visualizations that highlight instances where the model made incorrect predictions, which can help identify patterns and areas of improvement."
   ]
  },
  {
   "cell_type": "markdown",
   "metadata": {
    "id": "oU-oQT7TPcBv"
   },
   "source": [
    "We'll tally up the incorrect forecasts and display them visually."
   ]
  },
  {
   "cell_type": "code",
   "execution_count": 30,
   "metadata": {
    "id": "kS926EoaS6gg"
   },
   "outputs": [],
   "source": [
    "def predict(x_test, trained_parameters):\n",
    "    a3, _ = forward_propagation(x_test, trained_parameters)\n",
    "    return np.argmax(a3, axis=0)\n",
    "\n",
    "predictions = predict(x_test, trained_parameters)"
   ]
  },
  {
   "cell_type": "code",
   "execution_count": 31,
   "metadata": {
    "colab": {
     "base_uri": "https://localhost:8080/"
    },
    "id": "64XvOh2Gg0Um",
    "outputId": "465f229d-f6f9-42fc-a1de-34b143c8b40a"
   },
   "outputs": [
    {
     "name": "stdout",
     "output_type": "stream",
     "text": [
      "The Number of Wrong Predictions: 10\n"
     ]
    }
   ],
   "source": [
    "# Number of wrong predictions\n",
    "print(f\"The Number of Wrong Predictions: {len(predictions != y_test)}\")"
   ]
  },
  {
   "cell_type": "code",
   "execution_count": 32,
   "metadata": {
    "colab": {
     "base_uri": "https://localhost:8080/",
     "height": 320
    },
    "id": "m3oz1wRrg7gI",
    "outputId": "1ac29d35-172e-4cc4-83f8-a5d7ccd2372d"
   },
   "outputs": [
    {
     "data": {
      "image/png": "[encoded data removed]",
      "text/plain": [
       "<Figure size 1500x800 with 10 Axes>"
      ]
     },
     "metadata": {},
     "output_type": "display_data"
    }
   ],
   "source": [
    "# Identify indices of incorrect predictions\n",
    "incorrect_indices = np.where(predictions != np.argmax(y_test, axis=0))[0]\n",
    "\n",
    "# Select first 10 incorrect indices (assuming there are at least 10 incorrect predictions)\n",
    "incorrect_indices = incorrect_indices[:10]\n",
    "\n",
    "# Plot the incorrect images alongside their correct labels\n",
    "plt.figure(figsize=(15, 8))\n",
    "for i, idx in enumerate(incorrect_indices):\n",
    "    # Get the incorrectly predicted image and its true label\n",
    "    incorrect_image = x_test[:, idx].reshape((28, 28)) * 255\n",
    "    true_label = np.argmax(y_test[:, idx])\n",
    "\n",
    "    # Make prediction for the image\n",
    "    predicted_label = predictions[idx]\n",
    "\n",
    "    # Plot the incorrect image with its predicted and true labels\n",
    "    plt.subplot(2, 5, i + 1)\n",
    "    plt.imshow(incorrect_image, cmap='gray')\n",
    "    plt.title(f\"True: {true_label}, Predicted: {predicted_label}\")\n",
    "    plt.axis('off')\n",
    "\n",
    "plt.tight_layout()\n",
    "plt.show();"
   ]
  },
  {
   "cell_type": "markdown",
   "metadata": {
    "id": "2e2rhb2HNbyE"
   },
   "source": [
    "#### **Accuracy score on Test data**"
   ]
  },
  {
   "cell_type": "markdown",
   "metadata": {
    "id": "QrlF_qWxQRAr"
   },
   "source": [
    "Let's calculate accuracy score. This score is an important metric that reflects the ability of the model to make correct predictions on previously unseen data."
   ]
  },
  {
   "cell_type": "code",
   "execution_count": 33,
   "metadata": {
    "colab": {
     "base_uri": "https://localhost:8080/"
    },
    "id": "p5wlDGxjgoPP",
    "outputId": "ba51266e-b76e-443c-cd04-68e736cf3fb2"
   },
   "outputs": [
    {
     "name": "stdout",
     "output_type": "stream",
     "text": [
      "Accuracy on Test set: 0.9401\n"
     ]
    }
   ],
   "source": [
    "# Accuracy score on Test data\n",
    "def predict(x_test, trained_parameters):\n",
    "    a3, _ = forward_propagation(x_test, trained_parameters)\n",
    "    return np.argmax(a3, axis=0)\n",
    "\n",
    "def accuracy_score(predictions, target):\n",
    "    return np.mean(predictions == np.argmax(target, axis=0))\n",
    "\n",
    "predictions = predict(x_test, trained_parameters)\n",
    "print(f\"Accuracy on Test set: {accuracy_score(predictions, y_test):.4}\")"
   ]
  },
  {
   "cell_type": "markdown",
   "metadata": {
    "id": "gBMsX_F_0ZaG"
   },
   "source": [
    "### **Conclusion**"
   ]
  },
  {
   "cell_type": "markdown",
   "metadata": {
    "id": "xzhBWunHUlLv"
   },
   "source": [
    "*Model Performance Reports:*\n",
    "\n",
    "> `Training` / `Validation` Accuracy: The high training and validation accuracies (above 95%) suggest that the model has learned meaningful patterns from the data and is performing well across different subsets of the dataset.\n",
    "\n",
    "> `Test Set Accuracy:` The slightly lower test set accuracy (94.01%) indicates that the model's performance might degrade slightly on completely new, unseen data compared to the validation set. This could be due to inherent variability or differences between the test set and the training/validation sets.\n",
    "\n",
    "\n",
    "Overall, a consistent accuracy across training, validation, and test sets \n",
    "indicates a robust model that generalizes well and is likely to perform reliably in practical applications."
   ]
  }
 ],
 "metadata": {
  "colab": {
   "provenance": []
  },
  "kernelspec": {
   "display_name": "Python 3 (ipykernel)",
   "language": "python",
   "name": "python3"
  },
  "language_info": {
   "codemirror_mode": {
    "name": "ipython",
    "version": 3
   },
   "file_extension": ".py",
   "mimetype": "text/x-python",
   "name": "python",
   "nbconvert_exporter": "python",
   "pygments_lexer": "ipython3",
   "version": "3.11.4"
  }
 },
 "nbformat": 4,
 "nbformat_minor": 4
}
